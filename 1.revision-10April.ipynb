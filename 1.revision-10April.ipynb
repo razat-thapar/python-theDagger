{
 "cells": [
  {
   "cell_type": "markdown",
   "metadata": {},
   "source": [
    "# 10-April\n",
    "python revision "
   ]
  },
  {
   "cell_type": "code",
   "execution_count": 5,
   "metadata": {},
   "outputs": [
    {
     "name": "stdout",
     "output_type": "stream",
     "text": [
      "1.5\n",
      "1\n"
     ]
    }
   ],
   "source": [
    "# __future__ module\n",
    "#division\n",
    "3/2 # integer division in py 2\n",
    "from __future__ import division\n",
    "print 3/2 # true division #here print is a statement in python 2\n",
    "print 3//2 #integer division\n",
    "#in python 2 we need to import the division library to get the similiar behaviour as python 3"
   ]
  },
  {
   "cell_type": "code",
   "execution_count": 15,
   "metadata": {},
   "outputs": [
    {
     "name": "stdout",
     "output_type": "stream",
     "text": [
      "r\n",
      "a\n",
      "z\n",
      "a\n",
      "t\n",
      "['r', 'a', 'z', 'a', 't']\n"
     ]
    }
   ],
   "source": [
    "#strings ->these are python objects \n",
    "#1 they are sequence of characters enclosed in '' or \"\" . \n",
    "#2 they are immutable.\n",
    "name=\"razat\"\n",
    "#3 sequence can be indexed and sliced .\n",
    "#4 in python indexing starts with 0.\n",
    "name[1::2]\n",
    "#5 slicing format [start:end(exclusive):count(can be +ve or -ve)]\n",
    "name[::-1]\n",
    "#6 we can use + to concatenate sequence and * for repetetion\n",
    "name+ \"aggarwal\"\n",
    "name*2\n",
    "#7 some string methods .upper(), .lower(), .split(), .format(), .join()\n",
    "name.upper()\n",
    "name.lower()\n",
    "name.split(\"a\") #splits the sequence using the parameter or by default space\n",
    "name.split()\n",
    "\"my name is {n}\".format(n=name)\n",
    "#we can also use %s and %r for formatting\n",
    "\"hello my name is %s and iam in my %r's\"%(name,20)\n",
    "\n",
    "print \"\\n\".join(name)\n",
    "l=[\"r\",'a','a']\n",
    "\" \".join(l)"
   ]
  },
  {
   "cell_type": "code",
   "execution_count": 60,
   "metadata": {},
   "outputs": [
    {
     "data": {
      "text/plain": [
       "[1, 64, 729, 4096, 15625, 46656, 117649, 262144, 531441, 1000000]"
      ]
     },
     "execution_count": 60,
     "metadata": {},
     "output_type": "execute_result"
    }
   ],
   "source": [
    "#lists\n",
    "#1. they are simply arrays in c/c++\n",
    "#2. they are mutable obviously\n",
    "color=['red','orange','yellow']\n",
    "#3. support indexing and slicing\n",
    "color[1:]\n",
    "color[0]\n",
    "#4. support + to concatenate and * for repetition\n",
    "color*2\n",
    "color+color\n",
    "#5. methods are len(<list>), <list>.append(<item>), <list>.pop() ,<list>.reverse(), <list>.sort()\n",
    "len(color)\n",
    "color.append(3)\n",
    "color\n",
    "color.pop()\n",
    "color\n",
    "color.reverse()\n",
    "color\n",
    "color.sort()\n",
    "color\n",
    "\n",
    "#6. nesting\n",
    "list=[color,[1,2,3,3,4]]\n",
    "list\n",
    "#7. list comprehension -> allows us to quickly create the lists\n",
    "squares= [s**2 for s in range(1,11)]\n",
    "squares\n",
    "numbers= [s**3 for s in [s**2 for s in range(1,11)]]\n",
    "numbers"
   ]
  },
  {
   "cell_type": "code",
   "execution_count": 75,
   "metadata": {},
   "outputs": [
    {
     "data": {
      "text/plain": [
       "'value1'"
      ]
     },
     "execution_count": 75,
     "metadata": {},
     "output_type": "execute_result"
    }
   ],
   "source": [
    "#dictionaries -> similiar to hash tables\n",
    "#1 they are mutable\n",
    "#2 they can contain any data type\n",
    "my_dic={'key1':'value1','key2':'value2','key3':'value3'}\n",
    "my_dic['key1']\n",
    "\n",
    "#3 methods .keys(), .values(), .items()\n",
    "my_dic.keys()\n",
    "my_dic.values()\n",
    "my_dic.items() #returns tuple of items\n",
    "\n",
    "#4 nesting is also possible \n",
    "d={1:my_dic,2:{2.1:\"google\",2.2:\"facebook\"}}\n",
    "d[1]['key1']"
   ]
  },
  {
   "cell_type": "code",
   "execution_count": 93,
   "metadata": {},
   "outputs": [
    {
     "data": {
      "text/plain": [
       "2"
      ]
     },
     "execution_count": 93,
     "metadata": {},
     "output_type": "execute_result"
    }
   ],
   "source": [
    "#tuples -> they are simply immutable lists\n",
    "t= (1,2,3,4,4)\n",
    "#t[2]=5 not allowed\n",
    "#1 support indexing and slicing\n",
    "t[1:]\n",
    "t[1:4:2]\n",
    "#2 methods len(<tuple>), <tuple>.index(<value>),<tuple>.count(<value>) \n",
    "len(t)\n",
    "t.index(4) #returns index of first value found\n",
    "t.count(4) #returns count of values \n"
   ]
  },
  {
   "cell_type": "code",
   "execution_count": 139,
   "metadata": {},
   "outputs": [
    {
     "data": {
      "text/plain": [
       "''"
      ]
     },
     "execution_count": 139,
     "metadata": {},
     "output_type": "execute_result"
    }
   ],
   "source": [
    "#files -> used to interact with external files on computer\n",
    "#1 can handle different file types like .txt, .csv etc.\n",
    "#2 methods open(<file name>), read(), readline(), readlines()\n",
    "#, write(), writelines(), append(), close()\n",
    "doc1 = open('data.txt','w') # open(<filename>,<mode>) \n",
    "#mode= r(by default);r+(read writable);rb(by default);rb+(read writable in binary)\n",
    "#w,w+,wb,wb+, a,a+,ab,ab+\n",
    "doc1.write(\"this is a sample text\\n\")\n",
    "doc1.writelines([\"this is an another sample text\\n\",\"this should be the third text\\n\"])\n",
    "doc1=open(doc1.name,'r')\n",
    "doc1.readlines() # it reads all the lines at a time\n",
    "doc1.close()\n",
    "doc1=open(doc1.name,'r')\n",
    "doc1.readline() # it reads the first line\n",
    "doc1.readline() # it reads the second line by incrementing the line position\n",
    "doc1.readline() # it reads the third line \n",
    "doc1.close()\n",
    "\n",
    "#3 file object attributes .name, .mode, .closed, .softspace\n",
    "doc1=open(doc1.name,'r')\n",
    "doc1.closed\n",
    "doc1.mode\n",
    "doc1.name\n",
    "doc1.softspace\n",
    "doc1.close()\n",
    "\n",
    "#4 file position : tell(), seek(offset,[from])\n",
    "doc1=open(doc1.name,'r')\n",
    "doc1.tell() # returns the current position in no of bytes\n",
    "doc1.seek(10,0) # changes the current position to  10th byte from begining\n",
    "doc1.read()\n",
    "doc1.seek(10,1)# changes the current position to  10th byte from current position\n",
    "doc1.seek(10,2)# changes the current position to  10th byte from end\n",
    "doc1.read()\n",
    "#5 os module methods\n",
    "#doc1.closed\n",
    "#import os\n",
    "#os.rename('data.txt','bigdata.txt')\n",
    "#os.remove('data.txt')\n",
    "\n"
   ]
  },
  {
   "cell_type": "code",
   "execution_count": 151,
   "metadata": {},
   "outputs": [
    {
     "name": "stdout",
     "output_type": "stream",
     "text": [
      "set([1])\n",
      "set([1, 2])\n",
      "set([1, 2])\n",
      "set([1, 2, 3, 4])\n"
     ]
    }
   ],
   "source": [
    "#sets -> they are unordered collection of unique elements(just like in maths)\n",
    "s= set() #1 declaring s as set\n",
    "#2 methods .add(), set(<any python object>)\n",
    "s.add(1)\n",
    "print s\n",
    "s.add(2)\n",
    "print s\n",
    "s.add(1)\n",
    "print s\n",
    "\n",
    "x=[1,1,1,1,3,2,4]\n",
    "print set(x)\n"
   ]
  },
  {
   "cell_type": "code",
   "execution_count": 152,
   "metadata": {
    "collapsed": true
   },
   "outputs": [],
   "source": [
    "# boolean \n",
    "b = True\n",
    "b = False\n",
    "b = None"
   ]
  },
  {
   "cell_type": "code",
   "execution_count": null,
   "metadata": {
    "collapsed": true
   },
   "outputs": [],
   "source": []
  }
 ],
 "metadata": {
  "kernelspec": {
   "display_name": "Python 2",
   "language": "python",
   "name": "python2"
  },
  "language_info": {
   "codemirror_mode": {
    "name": "ipython",
    "version": 2
   },
   "file_extension": ".py",
   "mimetype": "text/x-python",
   "name": "python",
   "nbconvert_exporter": "python",
   "pygments_lexer": "ipython2",
   "version": "2.7.13"
  }
 },
 "nbformat": 4,
 "nbformat_minor": 2
}
